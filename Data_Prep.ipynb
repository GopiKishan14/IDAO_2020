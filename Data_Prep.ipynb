{
  "nbformat": 4,
  "nbformat_minor": 0,
  "metadata": {
    "colab": {
      "name": "Data_Prep.ipynb",
      "provenance": [],
      "authorship_tag": "ABX9TyMNRhc1eQSW9iNKShauS9jC",
      "include_colab_link": true
    },
    "kernelspec": {
      "name": "python3",
      "display_name": "Python 3"
    }
  },
  "cells": [
    {
      "cell_type": "markdown",
      "metadata": {
        "id": "view-in-github",
        "colab_type": "text"
      },
      "source": [
        "<a href=\"https://colab.research.google.com/github/GopiKishan14/IDAO_2020/blob/master/Data_Prep.ipynb\" target=\"_parent\"><img src=\"https://colab.research.google.com/assets/colab-badge.svg\" alt=\"Open In Colab\"/></a>"
      ]
    },
    {
      "cell_type": "code",
      "metadata": {
        "id": "pHOxH0gZT313",
        "colab_type": "code",
        "colab": {}
      },
      "source": [
        "from google.colab import drive\n",
        "drive.mount('/content/drive')"
      ],
      "execution_count": 0,
      "outputs": []
    },
    {
      "cell_type": "code",
      "metadata": {
        "id": "o7ohAoOgUBkE",
        "colab_type": "code",
        "colab": {}
      },
      "source": [
        "from zipfile import ZipFile\n",
        "home = '/content/drive/My Drive/Datasets/'\n",
        "\n",
        "with ZipFile(home + \"IDAO 2020.zip\", 'r') as zip:\n",
        "  zip.extractall(path=\"/content/\")"
      ],
      "execution_count": 0,
      "outputs": []
    },
    {
      "cell_type": "code",
      "metadata": {
        "id": "j8lrlKaTUMVL",
        "colab_type": "code",
        "colab": {}
      },
      "source": [
        "import numpy as np\n",
        "import matplotlib.pyplot as plt\n",
        "\n",
        "import pandas as pd"
      ],
      "execution_count": 0,
      "outputs": []
    },
    {
      "cell_type": "code",
      "metadata": {
        "id": "HxLUdZUPUOmz",
        "colab_type": "code",
        "colab": {}
      },
      "source": [
        "df = pd.read_csv(\"/content/IDAO 2020/train.csv\")\n",
        "df.head()"
      ],
      "execution_count": 0,
      "outputs": []
    },
    {
      "cell_type": "code",
      "metadata": {
        "id": "p13ig-HFUWnr",
        "colab_type": "code",
        "colab": {}
      },
      "source": [
        "test_data = pd.read_csv(\"/content/IDAO 2020/Track 1/test.csv\")\n",
        "test_data"
      ],
      "execution_count": 0,
      "outputs": []
    },
    {
      "cell_type": "code",
      "metadata": {
        "id": "aOhC3x7wUhsn",
        "colab_type": "code",
        "colab": {}
      },
      "source": [
        "# from dateutil.parser import *\n",
        "import dateutil.parser as dp\n",
        "# t = '1984-06-02T19:05:00.000Z'\n",
        "\n",
        "time = list()\n",
        "t = temp.epoch.iloc[0]\n",
        "parsed_t = dp.parse(t)\n",
        "base_time = parsed_t.strftime('%s')\n",
        "\n",
        "for i in range(len(temp.epoch)):\n",
        "    time.append(int(dp.parse(temp.epoch.iloc[i]).strftime(\"%s\")) - int(base_time))"
      ],
      "execution_count": 0,
      "outputs": []
    },
    {
      "cell_type": "code",
      "metadata": {
        "id": "BWOInRtBUtrJ",
        "colab_type": "code",
        "colab": {}
      },
      "source": [
        "x = {}"
      ],
      "execution_count": 0,
      "outputs": []
    },
    {
      "cell_type": "code",
      "metadata": {
        "id": "IzbWp7bzUot5",
        "colab_type": "code",
        "colab": {}
      },
      "source": [
        "x[1] = np.array(temp.x)\n",
        "x[1] = np.expand_dims(x[1] , axis=1)"
      ],
      "execution_count": 0,
      "outputs": []
    },
    {
      "cell_type": "code",
      "metadata": {
        "id": "HtMPGT-7UyXm",
        "colab_type": "code",
        "colab": {}
      },
      "source": [
        "samay  = {}\n",
        "samay[\"time\"] = np.array(time)/(3600)\n",
        "samay[\"x_sim\"] = temp.x_sim\n",
        "\n",
        "x_df = pd.DataFrame(samay)\n",
        "# samay = np.expand_dims(samay, axis=1)\n",
        "# samay = np.expand_dims(samay, axis=1)\n",
        "x_ar = x_df.to_numpy()\n",
        "\n",
        "\n",
        "x_ar = np.expand_dims(x_ar, axis=2)\n",
        "x_ar.shape"
      ],
      "execution_count": 0,
      "outputs": []
    }
  ]
}