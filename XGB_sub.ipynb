{
  "nbformat": 4,
  "nbformat_minor": 0,
  "metadata": {
    "colab": {
      "name": "IDAO1.ipynb",
      "provenance": [],
      "collapsed_sections": []
    },
    "kernelspec": {
      "name": "python3",
      "display_name": "Python 3"
    },
    "accelerator": "GPU"
  },
  "cells": [
    {
      "cell_type": "code",
      "metadata": {
        "id": "70jAZFTyfPe7",
        "colab_type": "code",
        "outputId": "440b6b1e-7dac-4888-a384-e488fd396e40",
        "colab": {
          "base_uri": "https://localhost:8080/",
          "height": 122
        }
      },
      "source": [
        "from google.colab import drive\n",
        "drive.mount('/content/drive')"
      ],
      "execution_count": 1,
      "outputs": [
        {
          "output_type": "stream",
          "text": [
            "Go to this URL in a browser: https://accounts.google.com/o/oauth2/auth?client_id=947318989803-6bn6qk8qdgf4n4g3pfee6491hc0brc4i.apps.googleusercontent.com&redirect_uri=urn%3aietf%3awg%3aoauth%3a2.0%3aoob&response_type=code&scope=email%20https%3a%2f%2fwww.googleapis.com%2fauth%2fdocs.test%20https%3a%2f%2fwww.googleapis.com%2fauth%2fdrive%20https%3a%2f%2fwww.googleapis.com%2fauth%2fdrive.photos.readonly%20https%3a%2f%2fwww.googleapis.com%2fauth%2fpeopleapi.readonly\n",
            "\n",
            "Enter your authorization code:\n",
            "··········\n",
            "Mounted at /content/drive\n"
          ],
          "name": "stdout"
        }
      ]
    },
    {
      "cell_type": "code",
      "metadata": {
        "id": "o6dvjnONfUV8",
        "colab_type": "code",
        "colab": {}
      },
      "source": [
        "from zipfile import ZipFile\n",
        "home = '/content/drive/My Drive/Datasets/'\n",
        "\n",
        "with ZipFile(home + \"IDAO 2020.zip\", 'r') as zip:\n",
        "  zip.extractall(path=\"/content/\")\n"
      ],
      "execution_count": 0,
      "outputs": []
    },
    {
      "cell_type": "code",
      "metadata": {
        "id": "4CLbgsVLhC9P",
        "colab_type": "code",
        "colab": {}
      },
      "source": [
        "import pandas as pd\n",
        "data = pd.read_csv(\"/content/IDAO 2020/train.csv\")\n",
        "\n",
        "columns_y = [\"x\", \"y\", \"z\", \"Vx\", \"Vy\", \"Vz\"]\n",
        "columns_x = [\"x_sim\", \"y_sim\", \"z_sim\", \"Vx_sim\", \"Vy_sim\", \"Vz_sim\"]"
      ],
      "execution_count": 0,
      "outputs": []
    },
    {
      "cell_type": "code",
      "metadata": {
        "id": "B4PBp1lbjCpz",
        "colab_type": "code",
        "outputId": "930d299b-ea50-4d47-ab86-dc24224e3080",
        "colab": {
          "base_uri": "https://localhost:8080/",
          "height": 419
        }
      },
      "source": [
        "X = data[columns_x]\n",
        "X"
      ],
      "execution_count": 7,
      "outputs": [
        {
          "output_type": "execute_result",
          "data": {
            "text/html": [
              "<div>\n",
              "<style scoped>\n",
              "    .dataframe tbody tr th:only-of-type {\n",
              "        vertical-align: middle;\n",
              "    }\n",
              "\n",
              "    .dataframe tbody tr th {\n",
              "        vertical-align: top;\n",
              "    }\n",
              "\n",
              "    .dataframe thead th {\n",
              "        text-align: right;\n",
              "    }\n",
              "</style>\n",
              "<table border=\"1\" class=\"dataframe\">\n",
              "  <thead>\n",
              "    <tr style=\"text-align: right;\">\n",
              "      <th></th>\n",
              "      <th>x_sim</th>\n",
              "      <th>y_sim</th>\n",
              "      <th>z_sim</th>\n",
              "      <th>Vx_sim</th>\n",
              "      <th>Vy_sim</th>\n",
              "      <th>Vz_sim</th>\n",
              "    </tr>\n",
              "  </thead>\n",
              "  <tbody>\n",
              "    <tr>\n",
              "      <th>0</th>\n",
              "      <td>-8843.131454</td>\n",
              "      <td>13138.221690</td>\n",
              "      <td>-20741.615306</td>\n",
              "      <td>-0.907527</td>\n",
              "      <td>-3.804930</td>\n",
              "      <td>-2.024133</td>\n",
              "    </tr>\n",
              "    <tr>\n",
              "      <th>1</th>\n",
              "      <td>-10555.500066</td>\n",
              "      <td>1649.289367</td>\n",
              "      <td>-24473.089556</td>\n",
              "      <td>-0.303704</td>\n",
              "      <td>-4.269816</td>\n",
              "      <td>-0.616468</td>\n",
              "    </tr>\n",
              "    <tr>\n",
              "      <th>2</th>\n",
              "      <td>-10571.858472</td>\n",
              "      <td>-10145.939908</td>\n",
              "      <td>-24271.169776</td>\n",
              "      <td>0.274880</td>\n",
              "      <td>-4.046788</td>\n",
              "      <td>0.718768</td>\n",
              "    </tr>\n",
              "    <tr>\n",
              "      <th>3</th>\n",
              "      <td>-9149.620794</td>\n",
              "      <td>-20618.200201</td>\n",
              "      <td>-20765.019094</td>\n",
              "      <td>0.712437</td>\n",
              "      <td>-3.375202</td>\n",
              "      <td>1.718306</td>\n",
              "    </tr>\n",
              "    <tr>\n",
              "      <th>4</th>\n",
              "      <td>-6729.358857</td>\n",
              "      <td>-28902.271436</td>\n",
              "      <td>-14992.399986</td>\n",
              "      <td>0.989382</td>\n",
              "      <td>-2.522618</td>\n",
              "      <td>2.342237</td>\n",
              "    </tr>\n",
              "    <tr>\n",
              "      <th>...</th>\n",
              "      <td>...</td>\n",
              "      <td>...</td>\n",
              "      <td>...</td>\n",
              "      <td>...</td>\n",
              "      <td>...</td>\n",
              "      <td>...</td>\n",
              "    </tr>\n",
              "    <tr>\n",
              "      <th>649907</th>\n",
              "      <td>-20717.958996</td>\n",
              "      <td>-16245.240500</td>\n",
              "      <td>5250.939232</td>\n",
              "      <td>-1.653931</td>\n",
              "      <td>3.157321</td>\n",
              "      <td>0.079069</td>\n",
              "    </tr>\n",
              "    <tr>\n",
              "      <th>649908</th>\n",
              "      <td>-22673.444496</td>\n",
              "      <td>-11192.339393</td>\n",
              "      <td>5243.608790</td>\n",
              "      <td>-0.945328</td>\n",
              "      <td>3.603371</td>\n",
              "      <td>-0.092202</td>\n",
              "    </tr>\n",
              "    <tr>\n",
              "      <th>649909</th>\n",
              "      <td>-23461.830699</td>\n",
              "      <td>-5570.167175</td>\n",
              "      <td>4966.813869</td>\n",
              "      <td>-0.087089</td>\n",
              "      <td>3.912550</td>\n",
              "      <td>-0.281989</td>\n",
              "    </tr>\n",
              "    <tr>\n",
              "      <th>649910</th>\n",
              "      <td>-22858.679929</td>\n",
              "      <td>373.249102</td>\n",
              "      <td>4396.055679</td>\n",
              "      <td>0.920162</td>\n",
              "      <td>4.021955</td>\n",
              "      <td>-0.485364</td>\n",
              "    </tr>\n",
              "    <tr>\n",
              "      <th>649911</th>\n",
              "      <td>-20656.328603</td>\n",
              "      <td>6277.934683</td>\n",
              "      <td>3518.642806</td>\n",
              "      <td>2.050990</td>\n",
              "      <td>3.844021</td>\n",
              "      <td>-0.690707</td>\n",
              "    </tr>\n",
              "  </tbody>\n",
              "</table>\n",
              "<p>649912 rows × 6 columns</p>\n",
              "</div>"
            ],
            "text/plain": [
              "               x_sim         y_sim         z_sim    Vx_sim    Vy_sim    Vz_sim\n",
              "0       -8843.131454  13138.221690 -20741.615306 -0.907527 -3.804930 -2.024133\n",
              "1      -10555.500066   1649.289367 -24473.089556 -0.303704 -4.269816 -0.616468\n",
              "2      -10571.858472 -10145.939908 -24271.169776  0.274880 -4.046788  0.718768\n",
              "3       -9149.620794 -20618.200201 -20765.019094  0.712437 -3.375202  1.718306\n",
              "4       -6729.358857 -28902.271436 -14992.399986  0.989382 -2.522618  2.342237\n",
              "...              ...           ...           ...       ...       ...       ...\n",
              "649907 -20717.958996 -16245.240500   5250.939232 -1.653931  3.157321  0.079069\n",
              "649908 -22673.444496 -11192.339393   5243.608790 -0.945328  3.603371 -0.092202\n",
              "649909 -23461.830699  -5570.167175   4966.813869 -0.087089  3.912550 -0.281989\n",
              "649910 -22858.679929    373.249102   4396.055679  0.920162  4.021955 -0.485364\n",
              "649911 -20656.328603   6277.934683   3518.642806  2.050990  3.844021 -0.690707\n",
              "\n",
              "[649912 rows x 6 columns]"
            ]
          },
          "metadata": {
            "tags": []
          },
          "execution_count": 7
        }
      ]
    },
    {
      "cell_type": "code",
      "metadata": {
        "id": "CJafgnRljFUS",
        "colab_type": "code",
        "outputId": "80af7d42-7ab3-4020-ab3d-27122abdf131",
        "colab": {
          "base_uri": "https://localhost:8080/",
          "height": 419
        }
      },
      "source": [
        "Y = data[columns_y]\n",
        "Y"
      ],
      "execution_count": 8,
      "outputs": [
        {
          "output_type": "execute_result",
          "data": {
            "text/html": [
              "<div>\n",
              "<style scoped>\n",
              "    .dataframe tbody tr th:only-of-type {\n",
              "        vertical-align: middle;\n",
              "    }\n",
              "\n",
              "    .dataframe tbody tr th {\n",
              "        vertical-align: top;\n",
              "    }\n",
              "\n",
              "    .dataframe thead th {\n",
              "        text-align: right;\n",
              "    }\n",
              "</style>\n",
              "<table border=\"1\" class=\"dataframe\">\n",
              "  <thead>\n",
              "    <tr style=\"text-align: right;\">\n",
              "      <th></th>\n",
              "      <th>x</th>\n",
              "      <th>y</th>\n",
              "      <th>z</th>\n",
              "      <th>Vx</th>\n",
              "      <th>Vy</th>\n",
              "      <th>Vz</th>\n",
              "    </tr>\n",
              "  </thead>\n",
              "  <tbody>\n",
              "    <tr>\n",
              "      <th>0</th>\n",
              "      <td>-8855.823863</td>\n",
              "      <td>13117.780146</td>\n",
              "      <td>-20728.353233</td>\n",
              "      <td>-0.908303</td>\n",
              "      <td>-3.808436</td>\n",
              "      <td>-2.022083</td>\n",
              "    </tr>\n",
              "    <tr>\n",
              "      <th>1</th>\n",
              "      <td>-10567.672384</td>\n",
              "      <td>1619.746066</td>\n",
              "      <td>-24451.813271</td>\n",
              "      <td>-0.302590</td>\n",
              "      <td>-4.272617</td>\n",
              "      <td>-0.612796</td>\n",
              "    </tr>\n",
              "    <tr>\n",
              "      <th>2</th>\n",
              "      <td>-10578.684043</td>\n",
              "      <td>-10180.467460</td>\n",
              "      <td>-24238.280949</td>\n",
              "      <td>0.277435</td>\n",
              "      <td>-4.047522</td>\n",
              "      <td>0.723155</td>\n",
              "    </tr>\n",
              "    <tr>\n",
              "      <th>3</th>\n",
              "      <td>-9148.251857</td>\n",
              "      <td>-20651.437460</td>\n",
              "      <td>-20720.381279</td>\n",
              "      <td>0.715600</td>\n",
              "      <td>-3.373762</td>\n",
              "      <td>1.722115</td>\n",
              "    </tr>\n",
              "    <tr>\n",
              "      <th>4</th>\n",
              "      <td>-6719.092336</td>\n",
              "      <td>-28929.061629</td>\n",
              "      <td>-14938.907967</td>\n",
              "      <td>0.992507</td>\n",
              "      <td>-2.519732</td>\n",
              "      <td>2.344703</td>\n",
              "    </tr>\n",
              "    <tr>\n",
              "      <th>...</th>\n",
              "      <td>...</td>\n",
              "      <td>...</td>\n",
              "      <td>...</td>\n",
              "      <td>...</td>\n",
              "      <td>...</td>\n",
              "      <td>...</td>\n",
              "    </tr>\n",
              "    <tr>\n",
              "      <th>649907</th>\n",
              "      <td>-21721.485878</td>\n",
              "      <td>-14048.557595</td>\n",
              "      <td>5277.807430</td>\n",
              "      <td>-1.351754</td>\n",
              "      <td>3.373418</td>\n",
              "      <td>0.004995</td>\n",
              "    </tr>\n",
              "    <tr>\n",
              "      <th>649908</th>\n",
              "      <td>-23176.890569</td>\n",
              "      <td>-8712.016936</td>\n",
              "      <td>5153.371350</td>\n",
              "      <td>-0.575955</td>\n",
              "      <td>3.764450</td>\n",
              "      <td>-0.175109</td>\n",
              "    </tr>\n",
              "    <tr>\n",
              "      <th>649909</th>\n",
              "      <td>-23363.044794</td>\n",
              "      <td>-2906.071320</td>\n",
              "      <td>4747.247386</td>\n",
              "      <td>0.351381</td>\n",
              "      <td>3.992943</td>\n",
              "      <td>-0.372198</td>\n",
              "    </tr>\n",
              "    <tr>\n",
              "      <th>649910</th>\n",
              "      <td>-22058.020262</td>\n",
              "      <td>3074.894039</td>\n",
              "      <td>4038.853542</td>\n",
              "      <td>1.421085</td>\n",
              "      <td>3.984793</td>\n",
              "      <td>-0.578849</td>\n",
              "    </tr>\n",
              "    <tr>\n",
              "      <th>649911</th>\n",
              "      <td>-19076.969715</td>\n",
              "      <td>8807.476785</td>\n",
              "      <td>3024.623998</td>\n",
              "      <td>2.587973</td>\n",
              "      <td>3.641717</td>\n",
              "      <td>-0.778817</td>\n",
              "    </tr>\n",
              "  </tbody>\n",
              "</table>\n",
              "<p>649912 rows × 6 columns</p>\n",
              "</div>"
            ],
            "text/plain": [
              "                   x             y             z        Vx        Vy        Vz\n",
              "0       -8855.823863  13117.780146 -20728.353233 -0.908303 -3.808436 -2.022083\n",
              "1      -10567.672384   1619.746066 -24451.813271 -0.302590 -4.272617 -0.612796\n",
              "2      -10578.684043 -10180.467460 -24238.280949  0.277435 -4.047522  0.723155\n",
              "3       -9148.251857 -20651.437460 -20720.381279  0.715600 -3.373762  1.722115\n",
              "4       -6719.092336 -28929.061629 -14938.907967  0.992507 -2.519732  2.344703\n",
              "...              ...           ...           ...       ...       ...       ...\n",
              "649907 -21721.485878 -14048.557595   5277.807430 -1.351754  3.373418  0.004995\n",
              "649908 -23176.890569  -8712.016936   5153.371350 -0.575955  3.764450 -0.175109\n",
              "649909 -23363.044794  -2906.071320   4747.247386  0.351381  3.992943 -0.372198\n",
              "649910 -22058.020262   3074.894039   4038.853542  1.421085  3.984793 -0.578849\n",
              "649911 -19076.969715   8807.476785   3024.623998  2.587973  3.641717 -0.778817\n",
              "\n",
              "[649912 rows x 6 columns]"
            ]
          },
          "metadata": {
            "tags": []
          },
          "execution_count": 8
        }
      ]
    },
    {
      "cell_type": "code",
      "metadata": {
        "id": "v2f-vRlMjIRp",
        "colab_type": "code",
        "colab": {}
      },
      "source": [
        "#Test train spilt\n",
        "\n",
        "from sklearn.model_selection import train_test_split\n",
        "X_train, X_test, Y_train, Y_test = train_test_split(X, Y, test_size=0.01)"
      ],
      "execution_count": 0,
      "outputs": []
    },
    {
      "cell_type": "code",
      "metadata": {
        "id": "cAC8BQI_jPNv",
        "colab_type": "code",
        "outputId": "61d35d6b-9365-49d1-f8d4-89a9ce21ee7b",
        "colab": {
          "base_uri": "https://localhost:8080/",
          "height": 51
        }
      },
      "source": [
        "#SVM Regresor\n",
        "\n",
        "from sklearn import svm\n",
        "reg = svm.SVR()\n",
        "reg.fit(X_train[[\"x_sim\"]], Y_train[\"x\"])\n",
        "pred = reg.predict(X_test[[\"x_sim\"]][:1000])\n",
        "\n",
        "from sklearn.metrics import *\n",
        "\n",
        "mse = mean_squared_error(Y_test['x'][:1000], X_test[\"x_sim\"][:1000], sample_weight=None, multioutput='uniform_average', squared=False)\n",
        "\n",
        "pred = reg.predict(X_test[[\"x_sim\"]][:1000])"
      ],
      "execution_count": 0,
      "outputs": [
        {
          "output_type": "execute_result",
          "data": {
            "text/plain": [
              "SVR(C=1.0, cache_size=200, coef0=0.0, degree=3, epsilon=0.1, gamma='scale',\n",
              "    kernel='rbf', max_iter=-1, shrinking=True, tol=0.001, verbose=False)"
            ]
          },
          "metadata": {
            "tags": []
          },
          "execution_count": 28
        }
      ]
    },
    {
      "cell_type": "code",
      "metadata": {
        "id": "H_v3fKHUo9BD",
        "colab_type": "code",
        "colab": {}
      },
      "source": [
        "#Smape Score\n",
        "\n",
        "import numpy as np\n",
        "def smape(satellite_predicted_values, satellite_true_values): \n",
        "    # the division, addition and subtraction are pointwise \n",
        "    return np.mean(np.abs((satellite_predicted_values - satellite_true_values) \n",
        "        / (np.abs(satellite_predicted_values) + np.abs(satellite_true_values))))"
      ],
      "execution_count": 0,
      "outputs": []
    },
    {
      "cell_type": "code",
      "metadata": {
        "id": "0oHO4lKbqQuM",
        "colab_type": "code",
        "outputId": "c4c190ec-6407-4ab1-9127-81ed25240a34",
        "colab": {
          "base_uri": "https://localhost:8080/",
          "height": 34
        }
      },
      "source": [
        "err = smape(X_test[\"x_sim\"][:1000],Y_test['x'][:1000])\n",
        "err"
      ],
      "execution_count": 0,
      "outputs": [
        {
          "output_type": "execute_result",
          "data": {
            "text/plain": [
              "0.17255281210670645"
            ]
          },
          "metadata": {
            "tags": []
          },
          "execution_count": 39
        }
      ]
    },
    {
      "cell_type": "code",
      "metadata": {
        "id": "MHfetT8gTiRB",
        "colab_type": "code",
        "colab": {}
      },
      "source": [
        "pred_tmp = Y_test"
      ],
      "execution_count": 0,
      "outputs": []
    },
    {
      "cell_type": "code",
      "metadata": {
        "id": "z3iOx27dTibL",
        "colab_type": "code",
        "colab": {}
      },
      "source": [
        ""
      ],
      "execution_count": 0,
      "outputs": []
    },
    {
      "cell_type": "code",
      "metadata": {
        "id": "YquwXRhWtfFF",
        "colab_type": "code",
        "outputId": "2120b9d6-f2d2-4c43-cd1d-4f1d9e1e906b",
        "colab": {
          "base_uri": "https://localhost:8080/",
          "height": 34
        }
      },
      "source": [
        "err = smape(pred,Y_test['x'][:1000])\n",
        "err"
      ],
      "execution_count": 0,
      "outputs": [
        {
          "output_type": "execute_result",
          "data": {
            "text/plain": [
              "0.3479889725250455"
            ]
          },
          "metadata": {
            "tags": []
          },
          "execution_count": 40
        }
      ]
    },
    {
      "cell_type": "code",
      "metadata": {
        "id": "JjNw6F8dV5oQ",
        "colab_type": "code",
        "colab": {}
      },
      "source": [
        "def huber_approx_obj(preds, dtrain):\n",
        "\n",
        "    d = preds - dtrain #remove .get_labels() for sklearn\n",
        "\n",
        "    h = 1  #h is delta in the graphic\n",
        "\n",
        "    scale = 1 + (d / h) ** 2\n",
        "\n",
        "    scale_sqrt = np.sqrt(scale)\n",
        "\n",
        "    grad = d / scale_sqrt\n",
        "\n",
        "    hess = 1 / scale / scale_sqrt\n",
        "\n",
        "    return grad, hess\n",
        "\n"
      ],
      "execution_count": 0,
      "outputs": []
    },
    {
      "cell_type": "code",
      "metadata": {
        "id": "w51Dv7qcqQsM",
        "colab_type": "code",
        "outputId": "e5cff003-3489-4cd8-fbe5-da3768e641d4",
        "colab": {
          "base_uri": "https://localhost:8080/",
          "height": 119
        }
      },
      "source": [
        "import numpy as np\n",
        "\n",
        "from scipy.stats import uniform, randint\n",
        "\n",
        "from sklearn.datasets import load_breast_cancer, load_diabetes, load_wine\n",
        "from sklearn.metrics import auc, accuracy_score, confusion_matrix, mean_squared_error\n",
        "from sklearn.model_selection import cross_val_score, GridSearchCV, KFold, RandomizedSearchCV, train_test_split\n",
        "\n",
        "import xgboost as xgb\n",
        "\n",
        "xgb_model = {}\n",
        "y_pred = {}\n",
        "mse = {}\n",
        "xgb_model[\"x\"] = xgb.XGBRegressor(objective=huber_approx_obj, random_state=42)\n",
        "\n",
        "xgb_model[\"x\"].fit(X_train, Y_train[\"x\"])\n",
        "\n",
        "y_pred[\"x\"] = xgb_model[\"x\"].predict(X_test)\n",
        "\n",
        "mse[\"x\"]=mean_squared_error(Y_test[\"x\"], y_pred[\"x\"])\n",
        "\n",
        "print(np.sqrt(mse[\"x\"]))"
      ],
      "execution_count": 38,
      "outputs": [
        {
          "output_type": "stream",
          "text": [
            "/usr/local/lib/python3.6/dist-packages/xgboost/core.py:587: FutureWarning: Series.base is deprecated and will be removed in a future version\n",
            "  if getattr(data, 'base', None) is not None and \\\n",
            "/usr/local/lib/python3.6/dist-packages/xgboost/core.py:588: FutureWarning: Series.base is deprecated and will be removed in a future version\n",
            "  data.base is not None and isinstance(data, np.ndarray) \\\n"
          ],
          "name": "stderr"
        },
        {
          "output_type": "stream",
          "text": [
            "[14:27:08] WARNING: /workspace/src/objective/regression_obj.cu:152: reg:linear is now deprecated in favor of reg:squarederror.\n",
            "1526802.586294818\n"
          ],
          "name": "stdout"
        }
      ]
    },
    {
      "cell_type": "code",
      "metadata": {
        "id": "cXdVQKAyWsTZ",
        "colab_type": "code",
        "colab": {
          "base_uri": "https://localhost:8080/",
          "height": 34
        },
        "outputId": "19d45c60-fce5-4b40-fdf5-63df92039e25"
      },
      "source": [
        "smape(Y_test[\"x\"], y_pred[\"x\"])"
      ],
      "execution_count": 39,
      "outputs": [
        {
          "output_type": "execute_result",
          "data": {
            "text/plain": [
              "0.9851911662691913"
            ]
          },
          "metadata": {
            "tags": []
          },
          "execution_count": 39
        }
      ]
    },
    {
      "cell_type": "code",
      "metadata": {
        "id": "Bme7IQpkKidf",
        "colab_type": "code",
        "colab": {
          "base_uri": "https://localhost:8080/",
          "height": 102
        },
        "outputId": "04664c64-62b8-4a99-f3c8-0b79336c3f05"
      },
      "source": [
        "xgb_model[\"y\"] = xgb.XGBRegressor(objective=\"reg:squarederror\", random_state=42)\n",
        "\n",
        "xgb_model[\"y\"].fit(X_train, Y_train[\"y\"])\n",
        "\n",
        "y_pred[\"y\"] = xgb_model[\"y\"].predict(X_test)\n",
        "\n",
        "mse[\"y\"]=mean_squared_error(Y_test[\"y\"], y_pred[\"y\"])\n",
        "\n",
        "print(np.sqrt(mse[\"y\"]))\n",
        "smape(Y_test[\"x\"], y_pred[\"x\"])"
      ],
      "execution_count": 15,
      "outputs": [
        {
          "output_type": "stream",
          "text": [
            "/usr/local/lib/python3.6/dist-packages/xgboost/core.py:587: FutureWarning: Series.base is deprecated and will be removed in a future version\n",
            "  if getattr(data, 'base', None) is not None and \\\n",
            "/usr/local/lib/python3.6/dist-packages/xgboost/core.py:588: FutureWarning: Series.base is deprecated and will be removed in a future version\n",
            "  data.base is not None and isinstance(data, np.ndarray) \\\n"
          ],
          "name": "stderr"
        },
        {
          "output_type": "stream",
          "text": [
            "6747.398951402705\n"
          ],
          "name": "stdout"
        }
      ]
    },
    {
      "cell_type": "code",
      "metadata": {
        "id": "uzjhTNjCqSRD",
        "colab_type": "code",
        "outputId": "67f7501d-ee78-41cc-8b1f-41813e377eb4",
        "colab": {
          "base_uri": "https://localhost:8080/",
          "height": 102
        }
      },
      "source": [
        "xgb_model[\"z\"] = xgb.XGBRegressor(objective=\"reg:squarederror\", random_state=42)\n",
        "\n",
        "xgb_model[\"z\"].fit(X_train, Y_train[\"z\"])\n",
        "\n",
        "y_pred[\"z\"] = xgb_model[\"z\"].predict(X_test)\n",
        "\n",
        "mse[\"z\"]=mean_squared_error(Y_test[\"z\"], y_pred[\"z\"])\n",
        "\n",
        "print(np.sqrt(mse[\"z\"]))"
      ],
      "execution_count": 16,
      "outputs": [
        {
          "output_type": "stream",
          "text": [
            "/usr/local/lib/python3.6/dist-packages/xgboost/core.py:587: FutureWarning: Series.base is deprecated and will be removed in a future version\n",
            "  if getattr(data, 'base', None) is not None and \\\n",
            "/usr/local/lib/python3.6/dist-packages/xgboost/core.py:588: FutureWarning: Series.base is deprecated and will be removed in a future version\n",
            "  data.base is not None and isinstance(data, np.ndarray) \\\n"
          ],
          "name": "stderr"
        },
        {
          "output_type": "stream",
          "text": [
            "5872.67035393267\n"
          ],
          "name": "stdout"
        }
      ]
    },
    {
      "cell_type": "code",
      "metadata": {
        "id": "ZWQQYMAsLKUO",
        "colab_type": "code",
        "colab": {
          "base_uri": "https://localhost:8080/",
          "height": 102
        },
        "outputId": "1b81af84-ceaf-44c6-c306-1bd739e1bb21"
      },
      "source": [
        "xgb_model[\"Vy\"] = xgb.XGBRegressor(objective=\"reg:squarederror\", random_state=42)\n",
        "\n",
        "xgb_model[\"Vy\"].fit(X_train, Y_train[\"Vy\"])\n",
        "\n",
        "y_pred[\"Vy\"] = xgb_model[\"Vy\"].predict(X_test)\n",
        "\n",
        "mse[\"Vy\"]=mean_squared_error(Y_test[\"Vy\"], y_pred[\"Vy\"])\n",
        "\n",
        "print(np.sqrt(mse[\"Vy\"]))"
      ],
      "execution_count": 17,
      "outputs": [
        {
          "output_type": "stream",
          "text": [
            "/usr/local/lib/python3.6/dist-packages/xgboost/core.py:587: FutureWarning: Series.base is deprecated and will be removed in a future version\n",
            "  if getattr(data, 'base', None) is not None and \\\n",
            "/usr/local/lib/python3.6/dist-packages/xgboost/core.py:588: FutureWarning: Series.base is deprecated and will be removed in a future version\n",
            "  data.base is not None and isinstance(data, np.ndarray) \\\n"
          ],
          "name": "stderr"
        },
        {
          "output_type": "stream",
          "text": [
            "1.292417335608456\n"
          ],
          "name": "stdout"
        }
      ]
    },
    {
      "cell_type": "code",
      "metadata": {
        "id": "1fwgxZgNLKcI",
        "colab_type": "code",
        "colab": {
          "base_uri": "https://localhost:8080/",
          "height": 102
        },
        "outputId": "dd0060bc-d27e-46ad-ca6e-ce1515c83450"
      },
      "source": [
        "xgb_model[\"Vx\"] = xgb.XGBRegressor(objective=\"reg:squarederror\", random_state=42)\n",
        "\n",
        "xgb_model[\"Vx\"].fit(X_train, Y_train[\"Vx\"])\n",
        "\n",
        "y_pred[\"Vx\"] = xgb_model[\"Vx\"].predict(X_test)\n",
        "\n",
        "mse[\"Vx\"]=mean_squared_error(Y_test[\"Vx\"], y_pred[\"Vx\"])\n",
        "\n",
        "print(np.sqrt(mse[\"Vx\"]))"
      ],
      "execution_count": 18,
      "outputs": [
        {
          "output_type": "stream",
          "text": [
            "/usr/local/lib/python3.6/dist-packages/xgboost/core.py:587: FutureWarning: Series.base is deprecated and will be removed in a future version\n",
            "  if getattr(data, 'base', None) is not None and \\\n",
            "/usr/local/lib/python3.6/dist-packages/xgboost/core.py:588: FutureWarning: Series.base is deprecated and will be removed in a future version\n",
            "  data.base is not None and isinstance(data, np.ndarray) \\\n"
          ],
          "name": "stderr"
        },
        {
          "output_type": "stream",
          "text": [
            "1.2137879973398864\n"
          ],
          "name": "stdout"
        }
      ]
    },
    {
      "cell_type": "code",
      "metadata": {
        "id": "Jv0lKTzSMMcB",
        "colab_type": "code",
        "colab": {
          "base_uri": "https://localhost:8080/",
          "height": 102
        },
        "outputId": "32299326-027d-4633-c477-a8cd87dc46ae"
      },
      "source": [
        "xgb_model[\"Vz\"] = xgb.XGBRegressor(objective=\"reg:squarederror\", random_state=42)\n",
        "\n",
        "xgb_model[\"Vz\"].fit(X_train, Y_train[\"Vz\"])\n",
        "\n",
        "y_pred[\"Vz\"] = xgb_model[\"Vz\"].predict(X_test)\n",
        "\n",
        "mse[\"Vz\"]=mean_squared_error(Y_test[\"Vz\"], y_pred[\"Vz\"])\n",
        "\n",
        "print(np.sqrt(mse[\"Vz\"]))"
      ],
      "execution_count": 19,
      "outputs": [
        {
          "output_type": "stream",
          "text": [
            "/usr/local/lib/python3.6/dist-packages/xgboost/core.py:587: FutureWarning: Series.base is deprecated and will be removed in a future version\n",
            "  if getattr(data, 'base', None) is not None and \\\n",
            "/usr/local/lib/python3.6/dist-packages/xgboost/core.py:588: FutureWarning: Series.base is deprecated and will be removed in a future version\n",
            "  data.base is not None and isinstance(data, np.ndarray) \\\n"
          ],
          "name": "stderr"
        },
        {
          "output_type": "stream",
          "text": [
            "1.0161959980197268\n"
          ],
          "name": "stdout"
        }
      ]
    },
    {
      "cell_type": "code",
      "metadata": {
        "id": "cLj6rPX1qfPj",
        "colab_type": "code",
        "outputId": "0d77a661-b10f-4e02-a969-0deefa8887cd",
        "colab": {
          "base_uri": "https://localhost:8080/",
          "height": 34
        }
      },
      "source": [
        "err = smape(y_pred,Y_test['x'])\n",
        "err"
      ],
      "execution_count": 0,
      "outputs": [
        {
          "output_type": "execute_result",
          "data": {
            "text/plain": [
              "0.2028860103900693"
            ]
          },
          "metadata": {
            "tags": []
          },
          "execution_count": 68
        }
      ]
    },
    {
      "cell_type": "code",
      "metadata": {
        "id": "QOkJTEwLzR4d",
        "colab_type": "code",
        "colab": {}
      },
      "source": [
        "sub = pd.read_csv(\"/content/IDAO 2020/test.csv\")"
      ],
      "execution_count": 0,
      "outputs": []
    },
    {
      "cell_type": "code",
      "metadata": {
        "id": "cKSAuhkdMwX1",
        "colab_type": "code",
        "colab": {}
      },
      "source": [
        ""
      ],
      "execution_count": 0,
      "outputs": []
    },
    {
      "cell_type": "code",
      "metadata": {
        "id": "ItMUbAbkMwWX",
        "colab_type": "code",
        "colab": {}
      },
      "source": [
        ""
      ],
      "execution_count": 0,
      "outputs": []
    },
    {
      "cell_type": "code",
      "metadata": {
        "id": "uZsDScn4MwUD",
        "colab_type": "code",
        "colab": {}
      },
      "source": [
        ""
      ],
      "execution_count": 0,
      "outputs": []
    },
    {
      "cell_type": "code",
      "metadata": {
        "id": "KDTQoQr6MwPd",
        "colab_type": "code",
        "colab": {}
      },
      "source": [
        "data_test_1= pd.read_csv(\"/content/IDAO 2020/Track 1/test.csv\")"
      ],
      "execution_count": 0,
      "outputs": []
    },
    {
      "cell_type": "code",
      "metadata": {
        "id": "F33o0BX7NDxs",
        "colab_type": "code",
        "colab": {}
      },
      "source": [
        "data_test = data_test_1[columns_x]"
      ],
      "execution_count": 0,
      "outputs": []
    },
    {
      "cell_type": "code",
      "metadata": {
        "id": "AJBzpCulNpmk",
        "colab_type": "code",
        "colab": {
          "base_uri": "https://localhost:8080/",
          "height": 419
        },
        "outputId": "d9d90546-b74a-47a9-fe2b-3eff7bdb175e"
      },
      "source": [
        "data_test"
      ],
      "execution_count": 22,
      "outputs": [
        {
          "output_type": "execute_result",
          "data": {
            "text/html": [
              "<div>\n",
              "<style scoped>\n",
              "    .dataframe tbody tr th:only-of-type {\n",
              "        vertical-align: middle;\n",
              "    }\n",
              "\n",
              "    .dataframe tbody tr th {\n",
              "        vertical-align: top;\n",
              "    }\n",
              "\n",
              "    .dataframe thead th {\n",
              "        text-align: right;\n",
              "    }\n",
              "</style>\n",
              "<table border=\"1\" class=\"dataframe\">\n",
              "  <thead>\n",
              "    <tr style=\"text-align: right;\">\n",
              "      <th></th>\n",
              "      <th>x_sim</th>\n",
              "      <th>y_sim</th>\n",
              "      <th>z_sim</th>\n",
              "      <th>Vx_sim</th>\n",
              "      <th>Vy_sim</th>\n",
              "      <th>Vz_sim</th>\n",
              "    </tr>\n",
              "  </thead>\n",
              "  <tbody>\n",
              "    <tr>\n",
              "      <th>0</th>\n",
              "      <td>-13366.891347</td>\n",
              "      <td>-14236.753503</td>\n",
              "      <td>6386.774555</td>\n",
              "      <td>4.333815</td>\n",
              "      <td>-0.692764</td>\n",
              "      <td>0.810774</td>\n",
              "    </tr>\n",
              "    <tr>\n",
              "      <th>1</th>\n",
              "      <td>-7370.434039</td>\n",
              "      <td>-14498.771520</td>\n",
              "      <td>7130.411325</td>\n",
              "      <td>5.077413</td>\n",
              "      <td>0.360609</td>\n",
              "      <td>0.313402</td>\n",
              "    </tr>\n",
              "    <tr>\n",
              "      <th>2</th>\n",
              "      <td>-572.068654</td>\n",
              "      <td>-13065.289498</td>\n",
              "      <td>7033.794876</td>\n",
              "      <td>5.519106</td>\n",
              "      <td>2.012830</td>\n",
              "      <td>-0.539412</td>\n",
              "    </tr>\n",
              "    <tr>\n",
              "      <th>3</th>\n",
              "      <td>6208.945257</td>\n",
              "      <td>-9076.852425</td>\n",
              "      <td>5548.296900</td>\n",
              "      <td>4.849212</td>\n",
              "      <td>4.338955</td>\n",
              "      <td>-1.869600</td>\n",
              "    </tr>\n",
              "    <tr>\n",
              "      <th>4</th>\n",
              "      <td>10768.200284</td>\n",
              "      <td>-2199.706707</td>\n",
              "      <td>2272.014862</td>\n",
              "      <td>1.940505</td>\n",
              "      <td>6.192887</td>\n",
              "      <td>-3.167724</td>\n",
              "    </tr>\n",
              "    <tr>\n",
              "      <th>...</th>\n",
              "      <td>...</td>\n",
              "      <td>...</td>\n",
              "      <td>...</td>\n",
              "      <td>...</td>\n",
              "      <td>...</td>\n",
              "      <td>...</td>\n",
              "    </tr>\n",
              "    <tr>\n",
              "      <th>284066</th>\n",
              "      <td>28595.031634</td>\n",
              "      <td>-85458.623976</td>\n",
              "      <td>5021.767767</td>\n",
              "      <td>-1.721131</td>\n",
              "      <td>-0.011611</td>\n",
              "      <td>0.122357</td>\n",
              "    </tr>\n",
              "    <tr>\n",
              "      <th>284067</th>\n",
              "      <td>15547.173728</td>\n",
              "      <td>-84233.509948</td>\n",
              "      <td>5840.616702</td>\n",
              "      <td>-1.815323</td>\n",
              "      <td>0.353445</td>\n",
              "      <td>0.098927</td>\n",
              "    </tr>\n",
              "    <tr>\n",
              "      <th>284068</th>\n",
              "      <td>1981.107111</td>\n",
              "      <td>-80123.860051</td>\n",
              "      <td>6458.394351</td>\n",
              "      <td>-1.858963</td>\n",
              "      <td>0.773846</td>\n",
              "      <td>0.067379</td>\n",
              "    </tr>\n",
              "    <tr>\n",
              "      <th>284069</th>\n",
              "      <td>-11644.801379</td>\n",
              "      <td>-72674.504171</td>\n",
              "      <td>6805.361999</td>\n",
              "      <td>-1.826030</td>\n",
              "      <td>1.262930</td>\n",
              "      <td>0.024782</td>\n",
              "    </tr>\n",
              "    <tr>\n",
              "      <th>284070</th>\n",
              "      <td>-24606.415254</td>\n",
              "      <td>-61329.599053</td>\n",
              "      <td>6784.763455</td>\n",
              "      <td>-1.667849</td>\n",
              "      <td>1.833746</td>\n",
              "      <td>-0.033371</td>\n",
              "    </tr>\n",
              "  </tbody>\n",
              "</table>\n",
              "<p>284071 rows × 6 columns</p>\n",
              "</div>"
            ],
            "text/plain": [
              "               x_sim         y_sim        z_sim    Vx_sim    Vy_sim    Vz_sim\n",
              "0      -13366.891347 -14236.753503  6386.774555  4.333815 -0.692764  0.810774\n",
              "1       -7370.434039 -14498.771520  7130.411325  5.077413  0.360609  0.313402\n",
              "2        -572.068654 -13065.289498  7033.794876  5.519106  2.012830 -0.539412\n",
              "3        6208.945257  -9076.852425  5548.296900  4.849212  4.338955 -1.869600\n",
              "4       10768.200284  -2199.706707  2272.014862  1.940505  6.192887 -3.167724\n",
              "...              ...           ...          ...       ...       ...       ...\n",
              "284066  28595.031634 -85458.623976  5021.767767 -1.721131 -0.011611  0.122357\n",
              "284067  15547.173728 -84233.509948  5840.616702 -1.815323  0.353445  0.098927\n",
              "284068   1981.107111 -80123.860051  6458.394351 -1.858963  0.773846  0.067379\n",
              "284069 -11644.801379 -72674.504171  6805.361999 -1.826030  1.262930  0.024782\n",
              "284070 -24606.415254 -61329.599053  6784.763455 -1.667849  1.833746 -0.033371\n",
              "\n",
              "[284071 rows x 6 columns]"
            ]
          },
          "metadata": {
            "tags": []
          },
          "execution_count": 22
        }
      ]
    },
    {
      "cell_type": "code",
      "metadata": {
        "id": "P_LC0ALyNqwn",
        "colab_type": "code",
        "colab": {}
      },
      "source": [
        "test_pred = {}\n",
        "test_pred[\"x\"] =  xgb_model[\"x\"].predict(data_test)"
      ],
      "execution_count": 0,
      "outputs": []
    },
    {
      "cell_type": "code",
      "metadata": {
        "id": "-VUZUifZOMHu",
        "colab_type": "code",
        "colab": {}
      },
      "source": [
        "test_pred[\"y\"] =  xgb_model[\"y\"].predict(data_test)\n",
        "test_pred[\"z\"] =  xgb_model[\"z\"].predict(data_test)\n",
        "test_pred[\"Vx\"] =  xgb_model[\"Vx\"].predict(data_test)\n",
        "test_pred[\"Vy\"] =  xgb_model[\"Vy\"].predict(data_test)\n",
        "test_pred[\"Vz\"] =  xgb_model[\"Vz\"].predict(data_test)"
      ],
      "execution_count": 0,
      "outputs": []
    },
    {
      "cell_type": "code",
      "metadata": {
        "id": "scSZnZy3Ox4G",
        "colab_type": "code",
        "colab": {
          "base_uri": "https://localhost:8080/",
          "height": 34
        },
        "outputId": "28d94ba2-2b4c-4678-cb58-12d459a44701"
      },
      "source": [
        "len(test_pred[\"Vx\"])"
      ],
      "execution_count": 26,
      "outputs": [
        {
          "output_type": "execute_result",
          "data": {
            "text/plain": [
              "284071"
            ]
          },
          "metadata": {
            "tags": []
          },
          "execution_count": 26
        }
      ]
    },
    {
      "cell_type": "code",
      "metadata": {
        "id": "o7y6QIa9P7BF",
        "colab_type": "code",
        "colab": {
          "base_uri": "https://localhost:8080/",
          "height": 425
        },
        "outputId": "774a1d05-1249-4349-dabc-71053cdc8df6"
      },
      "source": [
        "test_pred[\"id\"] = data_test_1[\"id\"]\n",
        "test_pred"
      ],
      "execution_count": 30,
      "outputs": [
        {
          "output_type": "execute_result",
          "data": {
            "text/plain": [
              "{'Vx': array([ 4.0060186,  4.5537224,  4.5189834, ..., -1.818569 , -1.7019246,\n",
              "        -1.5727873], dtype=float32),\n",
              " 'Vy': array([-0.6352428,  0.5566545,  2.123705 , ...,  0.5413923,  1.1232002,\n",
              "         1.6557292], dtype=float32),\n",
              " 'Vz': array([ 0.83950645,  0.4543083 , -0.3099972 , ...,  0.08406773,\n",
              "        -0.01775801, -0.0437454 ], dtype=float32),\n",
              " 'id': 0            3927\n",
              " 1            3928\n",
              " 2            3929\n",
              " 3            3930\n",
              " 4            3931\n",
              "            ...   \n",
              " 284066    1231060\n",
              " 284067    1231061\n",
              " 284068    1231062\n",
              " 284069    1231063\n",
              " 284070    1231064\n",
              " Name: id, Length: 284071, dtype: int64,\n",
              " 'x': array([-12950.15   ,  -6236.6416 ,    329.85468, ...,   3963.0703 ,\n",
              "         -8476.799  , -19683.484  ], dtype=float32),\n",
              " 'y': array([-13176.925, -13795.901, -12948.886, ..., -79214.79 , -71806.2  ,\n",
              "        -61122.996], dtype=float32),\n",
              " 'z': array([5573.8247, 5804.7134, 6005.047 , ..., 5871.0884, 6159.8613,\n",
              "        6159.8613], dtype=float32)}"
            ]
          },
          "metadata": {
            "tags": []
          },
          "execution_count": 30
        }
      ]
    },
    {
      "cell_type": "code",
      "metadata": {
        "id": "1Ybsfcr0P7KP",
        "colab_type": "code",
        "colab": {}
      },
      "source": [
        ""
      ],
      "execution_count": 0,
      "outputs": []
    },
    {
      "cell_type": "code",
      "metadata": {
        "id": "N897HBKBO0Ia",
        "colab_type": "code",
        "colab": {
          "base_uri": "https://localhost:8080/",
          "height": 419
        },
        "outputId": "64b404b7-d5f6-42a3-dbed-502818df64aa"
      },
      "source": [
        "pred_df = pd.DataFrame(test_pred)\n",
        "pred_df"
      ],
      "execution_count": 31,
      "outputs": [
        {
          "output_type": "execute_result",
          "data": {
            "text/html": [
              "<div>\n",
              "<style scoped>\n",
              "    .dataframe tbody tr th:only-of-type {\n",
              "        vertical-align: middle;\n",
              "    }\n",
              "\n",
              "    .dataframe tbody tr th {\n",
              "        vertical-align: top;\n",
              "    }\n",
              "\n",
              "    .dataframe thead th {\n",
              "        text-align: right;\n",
              "    }\n",
              "</style>\n",
              "<table border=\"1\" class=\"dataframe\">\n",
              "  <thead>\n",
              "    <tr style=\"text-align: right;\">\n",
              "      <th></th>\n",
              "      <th>x</th>\n",
              "      <th>y</th>\n",
              "      <th>z</th>\n",
              "      <th>Vx</th>\n",
              "      <th>Vy</th>\n",
              "      <th>Vz</th>\n",
              "      <th>id</th>\n",
              "    </tr>\n",
              "  </thead>\n",
              "  <tbody>\n",
              "    <tr>\n",
              "      <th>0</th>\n",
              "      <td>-12950.150391</td>\n",
              "      <td>-13176.924805</td>\n",
              "      <td>5573.824707</td>\n",
              "      <td>4.006019</td>\n",
              "      <td>-0.635243</td>\n",
              "      <td>0.839506</td>\n",
              "      <td>3927</td>\n",
              "    </tr>\n",
              "    <tr>\n",
              "      <th>1</th>\n",
              "      <td>-6236.641602</td>\n",
              "      <td>-13795.901367</td>\n",
              "      <td>5804.713379</td>\n",
              "      <td>4.553722</td>\n",
              "      <td>0.556655</td>\n",
              "      <td>0.454308</td>\n",
              "      <td>3928</td>\n",
              "    </tr>\n",
              "    <tr>\n",
              "      <th>2</th>\n",
              "      <td>329.854675</td>\n",
              "      <td>-12948.885742</td>\n",
              "      <td>6005.046875</td>\n",
              "      <td>4.518983</td>\n",
              "      <td>2.123705</td>\n",
              "      <td>-0.309997</td>\n",
              "      <td>3929</td>\n",
              "    </tr>\n",
              "    <tr>\n",
              "      <th>3</th>\n",
              "      <td>5225.054199</td>\n",
              "      <td>-7449.567871</td>\n",
              "      <td>4867.064453</td>\n",
              "      <td>3.986324</td>\n",
              "      <td>4.270105</td>\n",
              "      <td>-1.213306</td>\n",
              "      <td>3930</td>\n",
              "    </tr>\n",
              "    <tr>\n",
              "      <th>4</th>\n",
              "      <td>8225.722656</td>\n",
              "      <td>-1165.880005</td>\n",
              "      <td>3771.588135</td>\n",
              "      <td>0.364042</td>\n",
              "      <td>4.345695</td>\n",
              "      <td>-2.219078</td>\n",
              "      <td>3931</td>\n",
              "    </tr>\n",
              "    <tr>\n",
              "      <th>...</th>\n",
              "      <td>...</td>\n",
              "      <td>...</td>\n",
              "      <td>...</td>\n",
              "      <td>...</td>\n",
              "      <td>...</td>\n",
              "      <td>...</td>\n",
              "      <td>...</td>\n",
              "    </tr>\n",
              "    <tr>\n",
              "      <th>284066</th>\n",
              "      <td>30678.417969</td>\n",
              "      <td>-83456.765625</td>\n",
              "      <td>4871.836914</td>\n",
              "      <td>-1.507415</td>\n",
              "      <td>-0.071196</td>\n",
              "      <td>0.105396</td>\n",
              "      <td>1231060</td>\n",
              "    </tr>\n",
              "    <tr>\n",
              "      <th>284067</th>\n",
              "      <td>17369.640625</td>\n",
              "      <td>-80307.234375</td>\n",
              "      <td>4871.836914</td>\n",
              "      <td>-1.808297</td>\n",
              "      <td>0.259418</td>\n",
              "      <td>0.105396</td>\n",
              "      <td>1231061</td>\n",
              "    </tr>\n",
              "    <tr>\n",
              "      <th>284068</th>\n",
              "      <td>3963.070312</td>\n",
              "      <td>-79214.789062</td>\n",
              "      <td>5871.088379</td>\n",
              "      <td>-1.818569</td>\n",
              "      <td>0.541392</td>\n",
              "      <td>0.084068</td>\n",
              "      <td>1231062</td>\n",
              "    </tr>\n",
              "    <tr>\n",
              "      <th>284069</th>\n",
              "      <td>-8476.798828</td>\n",
              "      <td>-71806.203125</td>\n",
              "      <td>6159.861328</td>\n",
              "      <td>-1.701925</td>\n",
              "      <td>1.123200</td>\n",
              "      <td>-0.017758</td>\n",
              "      <td>1231063</td>\n",
              "    </tr>\n",
              "    <tr>\n",
              "      <th>284070</th>\n",
              "      <td>-19683.484375</td>\n",
              "      <td>-61122.996094</td>\n",
              "      <td>6159.861328</td>\n",
              "      <td>-1.572787</td>\n",
              "      <td>1.655729</td>\n",
              "      <td>-0.043745</td>\n",
              "      <td>1231064</td>\n",
              "    </tr>\n",
              "  </tbody>\n",
              "</table>\n",
              "<p>284071 rows × 7 columns</p>\n",
              "</div>"
            ],
            "text/plain": [
              "                   x             y            z  ...        Vy        Vz       id\n",
              "0      -12950.150391 -13176.924805  5573.824707  ... -0.635243  0.839506     3927\n",
              "1       -6236.641602 -13795.901367  5804.713379  ...  0.556655  0.454308     3928\n",
              "2         329.854675 -12948.885742  6005.046875  ...  2.123705 -0.309997     3929\n",
              "3        5225.054199  -7449.567871  4867.064453  ...  4.270105 -1.213306     3930\n",
              "4        8225.722656  -1165.880005  3771.588135  ...  4.345695 -2.219078     3931\n",
              "...              ...           ...          ...  ...       ...       ...      ...\n",
              "284066  30678.417969 -83456.765625  4871.836914  ... -0.071196  0.105396  1231060\n",
              "284067  17369.640625 -80307.234375  4871.836914  ...  0.259418  0.105396  1231061\n",
              "284068   3963.070312 -79214.789062  5871.088379  ...  0.541392  0.084068  1231062\n",
              "284069  -8476.798828 -71806.203125  6159.861328  ...  1.123200 -0.017758  1231063\n",
              "284070 -19683.484375 -61122.996094  6159.861328  ...  1.655729 -0.043745  1231064\n",
              "\n",
              "[284071 rows x 7 columns]"
            ]
          },
          "metadata": {
            "tags": []
          },
          "execution_count": 31
        }
      ]
    },
    {
      "cell_type": "code",
      "metadata": {
        "id": "2DTqTvW1PY74",
        "colab_type": "code",
        "colab": {
          "base_uri": "https://localhost:8080/",
          "height": 419
        },
        "outputId": "676830fe-6796-478d-a2f2-cd7df84f66b6"
      },
      "source": [
        "pred_df = pred_df[[\"id\", \"x\", \"y\", \"z\", \"Vx\", \"Vy\", \"Vz\"]]\n",
        "pred_df"
      ],
      "execution_count": 32,
      "outputs": [
        {
          "output_type": "execute_result",
          "data": {
            "text/html": [
              "<div>\n",
              "<style scoped>\n",
              "    .dataframe tbody tr th:only-of-type {\n",
              "        vertical-align: middle;\n",
              "    }\n",
              "\n",
              "    .dataframe tbody tr th {\n",
              "        vertical-align: top;\n",
              "    }\n",
              "\n",
              "    .dataframe thead th {\n",
              "        text-align: right;\n",
              "    }\n",
              "</style>\n",
              "<table border=\"1\" class=\"dataframe\">\n",
              "  <thead>\n",
              "    <tr style=\"text-align: right;\">\n",
              "      <th></th>\n",
              "      <th>id</th>\n",
              "      <th>x</th>\n",
              "      <th>y</th>\n",
              "      <th>z</th>\n",
              "      <th>Vx</th>\n",
              "      <th>Vy</th>\n",
              "      <th>Vz</th>\n",
              "    </tr>\n",
              "  </thead>\n",
              "  <tbody>\n",
              "    <tr>\n",
              "      <th>0</th>\n",
              "      <td>3927</td>\n",
              "      <td>-12950.150391</td>\n",
              "      <td>-13176.924805</td>\n",
              "      <td>5573.824707</td>\n",
              "      <td>4.006019</td>\n",
              "      <td>-0.635243</td>\n",
              "      <td>0.839506</td>\n",
              "    </tr>\n",
              "    <tr>\n",
              "      <th>1</th>\n",
              "      <td>3928</td>\n",
              "      <td>-6236.641602</td>\n",
              "      <td>-13795.901367</td>\n",
              "      <td>5804.713379</td>\n",
              "      <td>4.553722</td>\n",
              "      <td>0.556655</td>\n",
              "      <td>0.454308</td>\n",
              "    </tr>\n",
              "    <tr>\n",
              "      <th>2</th>\n",
              "      <td>3929</td>\n",
              "      <td>329.854675</td>\n",
              "      <td>-12948.885742</td>\n",
              "      <td>6005.046875</td>\n",
              "      <td>4.518983</td>\n",
              "      <td>2.123705</td>\n",
              "      <td>-0.309997</td>\n",
              "    </tr>\n",
              "    <tr>\n",
              "      <th>3</th>\n",
              "      <td>3930</td>\n",
              "      <td>5225.054199</td>\n",
              "      <td>-7449.567871</td>\n",
              "      <td>4867.064453</td>\n",
              "      <td>3.986324</td>\n",
              "      <td>4.270105</td>\n",
              "      <td>-1.213306</td>\n",
              "    </tr>\n",
              "    <tr>\n",
              "      <th>4</th>\n",
              "      <td>3931</td>\n",
              "      <td>8225.722656</td>\n",
              "      <td>-1165.880005</td>\n",
              "      <td>3771.588135</td>\n",
              "      <td>0.364042</td>\n",
              "      <td>4.345695</td>\n",
              "      <td>-2.219078</td>\n",
              "    </tr>\n",
              "    <tr>\n",
              "      <th>...</th>\n",
              "      <td>...</td>\n",
              "      <td>...</td>\n",
              "      <td>...</td>\n",
              "      <td>...</td>\n",
              "      <td>...</td>\n",
              "      <td>...</td>\n",
              "      <td>...</td>\n",
              "    </tr>\n",
              "    <tr>\n",
              "      <th>284066</th>\n",
              "      <td>1231060</td>\n",
              "      <td>30678.417969</td>\n",
              "      <td>-83456.765625</td>\n",
              "      <td>4871.836914</td>\n",
              "      <td>-1.507415</td>\n",
              "      <td>-0.071196</td>\n",
              "      <td>0.105396</td>\n",
              "    </tr>\n",
              "    <tr>\n",
              "      <th>284067</th>\n",
              "      <td>1231061</td>\n",
              "      <td>17369.640625</td>\n",
              "      <td>-80307.234375</td>\n",
              "      <td>4871.836914</td>\n",
              "      <td>-1.808297</td>\n",
              "      <td>0.259418</td>\n",
              "      <td>0.105396</td>\n",
              "    </tr>\n",
              "    <tr>\n",
              "      <th>284068</th>\n",
              "      <td>1231062</td>\n",
              "      <td>3963.070312</td>\n",
              "      <td>-79214.789062</td>\n",
              "      <td>5871.088379</td>\n",
              "      <td>-1.818569</td>\n",
              "      <td>0.541392</td>\n",
              "      <td>0.084068</td>\n",
              "    </tr>\n",
              "    <tr>\n",
              "      <th>284069</th>\n",
              "      <td>1231063</td>\n",
              "      <td>-8476.798828</td>\n",
              "      <td>-71806.203125</td>\n",
              "      <td>6159.861328</td>\n",
              "      <td>-1.701925</td>\n",
              "      <td>1.123200</td>\n",
              "      <td>-0.017758</td>\n",
              "    </tr>\n",
              "    <tr>\n",
              "      <th>284070</th>\n",
              "      <td>1231064</td>\n",
              "      <td>-19683.484375</td>\n",
              "      <td>-61122.996094</td>\n",
              "      <td>6159.861328</td>\n",
              "      <td>-1.572787</td>\n",
              "      <td>1.655729</td>\n",
              "      <td>-0.043745</td>\n",
              "    </tr>\n",
              "  </tbody>\n",
              "</table>\n",
              "<p>284071 rows × 7 columns</p>\n",
              "</div>"
            ],
            "text/plain": [
              "             id             x             y  ...        Vx        Vy        Vz\n",
              "0          3927 -12950.150391 -13176.924805  ...  4.006019 -0.635243  0.839506\n",
              "1          3928  -6236.641602 -13795.901367  ...  4.553722  0.556655  0.454308\n",
              "2          3929    329.854675 -12948.885742  ...  4.518983  2.123705 -0.309997\n",
              "3          3930   5225.054199  -7449.567871  ...  3.986324  4.270105 -1.213306\n",
              "4          3931   8225.722656  -1165.880005  ...  0.364042  4.345695 -2.219078\n",
              "...         ...           ...           ...  ...       ...       ...       ...\n",
              "284066  1231060  30678.417969 -83456.765625  ... -1.507415 -0.071196  0.105396\n",
              "284067  1231061  17369.640625 -80307.234375  ... -1.808297  0.259418  0.105396\n",
              "284068  1231062   3963.070312 -79214.789062  ... -1.818569  0.541392  0.084068\n",
              "284069  1231063  -8476.798828 -71806.203125  ... -1.701925  1.123200 -0.017758\n",
              "284070  1231064 -19683.484375 -61122.996094  ... -1.572787  1.655729 -0.043745\n",
              "\n",
              "[284071 rows x 7 columns]"
            ]
          },
          "metadata": {
            "tags": []
          },
          "execution_count": 32
        }
      ]
    },
    {
      "cell_type": "code",
      "metadata": {
        "id": "USB5-VMFQglV",
        "colab_type": "code",
        "colab": {}
      },
      "source": [
        "pred_df.to_csv(\"/content/IDAO 2020/Track 1/sub2.csv\")"
      ],
      "execution_count": 0,
      "outputs": []
    },
    {
      "cell_type": "code",
      "metadata": {
        "id": "C5yvSQtRQy3v",
        "colab_type": "code",
        "colab": {}
      },
      "source": [
        ""
      ],
      "execution_count": 0,
      "outputs": []
    }
  ]
}